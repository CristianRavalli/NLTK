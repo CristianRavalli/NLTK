{
 "cells": [
  {
   "cell_type": "code",
   "execution_count": 1,
   "id": "001511f8",
   "metadata": {},
   "outputs": [
    {
     "name": "stdout",
     "output_type": "stream",
     "text": [
      "Collecting PyPDF2\n",
      "  Downloading pypdf2-2.11.2-py3-none-any.whl (220 kB)\n",
      "\u001b[K     |████████████████████████████████| 220 kB 3.0 MB/s eta 0:00:01\n",
      "\u001b[?25hRequirement already satisfied: typing_extensions>=3.10.0.0 in /Users/cristianravalli/opt/anaconda3/lib/python3.9/site-packages (from PyPDF2) (3.10.0.2)\n",
      "Installing collected packages: PyPDF2\n",
      "Successfully installed PyPDF2-2.11.2\n",
      "Note: you may need to restart the kernel to use updated packages.\n"
     ]
    }
   ],
   "source": [
    "pip install PyPDF2"
   ]
  },
  {
   "cell_type": "code",
   "execution_count": 1,
   "id": "5d3ddcd2",
   "metadata": {},
   "outputs": [],
   "source": [
    "import PyPDF2"
   ]
  },
  {
   "cell_type": "code",
   "execution_count": 2,
   "id": "4ca81c7e",
   "metadata": {},
   "outputs": [],
   "source": [
    "coeliac = open('Gastronomie-Verzeichnis_05_2022.pdf',mode='rb')"
   ]
  },
  {
   "cell_type": "code",
   "execution_count": 3,
   "id": "b07156a1",
   "metadata": {},
   "outputs": [],
   "source": [
    "# Convert file into a PDFreader Object\n",
    "\n",
    "pdf_reader = PyPDF2.PdfFileReader(coeliac)"
   ]
  },
  {
   "cell_type": "code",
   "execution_count": 5,
   "id": "e7ee9985",
   "metadata": {},
   "outputs": [
    {
     "data": {
      "text/plain": [
       "17"
      ]
     },
     "execution_count": 5,
     "metadata": {},
     "output_type": "execute_result"
    }
   ],
   "source": [
    "pdf_reader.numPages"
   ]
  },
  {
   "cell_type": "code",
   "execution_count": 6,
   "id": "59ca5f14",
   "metadata": {},
   "outputs": [],
   "source": [
    "# Extracting the first page of the pdf\n",
    "\n",
    "p_one = pdf_reader.getPage(0)"
   ]
  },
  {
   "cell_type": "code",
   "execution_count": 8,
   "id": "33f5dbcf",
   "metadata": {},
   "outputs": [
    {
     "data": {
      "text/plain": [
       "'PLZ Name Adresse Internet Telefon / Email Angebot\\n3000 Restaurant Schmiedstube Schmiedenplatz 5\\n3000 Bernwww.schmiedstube.com 031 311 34 61\\ninfo@schmiedstube.comWir führen ein gluten-und lactosefreies à la carte Angebot mit diversen \\nVorspeisen und Hauptgängen.\\nAuch Vegetarier können bei uns glutenfrei Essen. Die glutenfreien Gerichte \\nsind bei uns in der Karte markiert.\\nGlutenfreis Brot ist immer erhältlich.\\nDie Schmiedstuben-Küche ist von Montag bis Samstag von 11.30 Uhr bis \\n13.30 Uhr und von 17.30 Uhr bis 21.00 Uhr geöffnet.\\n3005 Schwellenmätteli Restaurants\\n(Remimag AG)Dalmaziquai 11\\n3005 Bernhttps://www.schwellenmaetteli.ch/ 031 350 50 01\\nschwellenmaetteli@remimag.chEinzigartig in seiner Architektur schwebt der Pavillon des Restaurants \\nTerrasse über dem rauschenden Wasser der Aare. Das Zusammenspiel von \\nArchitektur und Natur wird auf den sonnigen Aussensitzplätzen zum Erlebnis. \\nDurch eine Öffnung im Holzboden können Sie sogar die Bewegungen des \\nWassers beobachten.\\nWährend der Bär auf der gegenüberliegenden Schwelle geduldig auf einen \\nFisch wartet, servieren wir Ihnen mediterrane Spezialitäten, traditionelle \\nFischgerichte, aber auch Kaffee und Kuchen oder kalte und warme Snacks. \\nWir verwöhnen Sie passend zu jeder Tages- und Jahreszeit.\\nGönnen Sie sich eine kleine Auszeit vom Alltag und lassen Sie sich von der \\nNatur inspirieren.\\n3011 Ristorante Pizzeria Da Bucolo Amthausgasse 10\\n3011 Bernwww.dabucolo.ch 031 332 82 82\\nteam@dabucolo.chGlutenfrei leben bedeutet nicht nur, auf Weizen, Roggen, Hafer, Gerste, \\nDinkel und die daraus hergestellten Produkte zu verzichten, sondern auch \\nohne diese Lebensmittel zu kochen. Damit unsere Gäste nicht auf unsere \\nPizzen verzichten müssen, bieten wir einige davon als glutenfreie Variationen \\nan, sowie Salate mit glutenfreien Brot und glutenfreies Bier.  Buon Appetito! \\n3011 Restaurant toi et moi \\n(Remimag AG)Bahnhofplatz 2\\n3011 Bernwww.toietmoi.ch 031 312 40 00\\ntoietmoi@remimag.chDas moderne Restaurant direkt beim Bahnhof Bern überzeugt mit einer \\ngelungen Mischung verschiedener Stilrichtungen. Etwas wild und doch \\nstimmig. Auch die Küche bietet einen bunten Mix an feinsten Speisen, vom \\nKüchenteam modern interpretiert. Die umfangreiche Weinkarte rundet \\ndiesen Ort des Genusses gehaltvoll ab. Das Angebot umfasst mittags und \\nabends während den Servicezeiten immer glutenfreie Produkte, unabhängig \\nob Suppe, Vorspeise oder Hauptgang. Die glutenfreie Pasta kann ganztags \\nbestellt werden und ist über den hauseigenen Mercato auch für daheim \\nerhältlich.\\n3012 Telepizza Bern Neubrückstrasse 91\\n3012 Bernwww.telepizza.ch Zentrale 0844 33 33 33\\nTel. direkt: 031 307 00 00 Wir bieten glutenfreie Pizzen in unseren verschiedenen Filialen an z.B. Pizza \\nMargherita, Salami und Hawai. Dazu reichen wir Ihnen gerne ein glutenfreies \\nBier. Bei den Desserts haben Sie eine Auswahl aus einzelverpackten \\nProdukten. \\n3043 Bäckerei-Konditorei-\\nTea RoomSäriswilstrasse 1\\n3043 Uettligenwww.baeckerei-zingg.ch 031 829 01 73\\nzingg.beck@bluewin.chFür Zöliakie-Betroffene eine grosse Auswahl frischer glutenfreier Produkte. \\nUnsere grosse Auswahl an Desserts, Kuchen, Torten und Stückli wird Sie \\nbegeistern! Besuchen Sie auch unser glutenfreies Bäckerzmorge-Buffet. \\nTermine und Reservierung unter zingg.beck@bluewin.ch.Unsere Gastronomiemitglieder haben mit uns eine schriftliche Vereinbarung, wonach sie die Grundregeln der glutenfreien Ernährung in Restaurationsbetrieben \\neinhalten, ihr Personal entsprechend schulen und für ihren Betrieb die Risikoherde analysiert haben.\\nDie IG Zöliakie kann aber keine Haftung für die Einhaltung dieser Regeln übernehmen, die Betriebe unterstehen jedoch dem Lebensmittel- und Hygienegesetz \\nund werden zudem von den kantonalen Labors kontrolliert. \\nGrundsätzlich empfiehlt sich immer eine Reservation und Erwähnung der Zöliakie bereits im Voraus. Wir wünschen Ihnen unbeschwerte, köstliche kulinarische \\nErlebnisse und freuen uns über persönliche Rückmeldungen zu Ihren Restauranterlebnissen.\\nBarbara Jenzer\\nVorstand Ressort Gastronomie\\n'"
      ]
     },
     "execution_count": 8,
     "metadata": {},
     "output_type": "execute_result"
    }
   ],
   "source": [
    "# Extracting text of the first page\n",
    "\n",
    "p_one_txt = p_one.extractText()\n",
    "p_one_txt"
   ]
  },
  {
   "cell_type": "markdown",
   "id": "ed2a4b06",
   "metadata": {},
   "source": [
    "## Convert the whole pdf to text"
   ]
  },
  {
   "cell_type": "code",
   "execution_count": 16,
   "id": "17562d3e",
   "metadata": {},
   "outputs": [],
   "source": [
    "gastro_verz = open('Gastronomie-Verzeichnis_05_2022.pdf','rb')\n",
    "\n",
    "# List of every page's text.\n",
    "# The index will correspond to the page number.\n",
    "gastro_pdf_to_text = []\n",
    "\n",
    "pdf_reader = PyPDF2.PdfFileReader(gastro_verz)\n",
    "\n",
    "for p in range(pdf_reader.numPages):\n",
    "    \n",
    "    page = pdf_reader.getPage(p)\n",
    "    \n",
    "    gastro_pdf_to_text.append(page.extractText())\n",
    "\n",
    "gastro_verz.close()"
   ]
  },
  {
   "cell_type": "code",
   "execution_count": 17,
   "id": "651bb5aa",
   "metadata": {},
   "outputs": [
    {
     "data": {
      "text/plain": [
       "'PLZ Name Adresse Internet Telefon / Email Angebot\\n4144 Gasthof Hotel zum Ochsen Ermitagestrasse 16\\n4144 Arlesheimwww.ochsen.ch 061 706 52 00\\ngasthof@ochsen.chFleischgenuss mit Tradition! Mit der hauseigenen Metzgerei  ist Qualität \\ngarantiert. Ein grosser Teil unserer Gerichte ist von Natur aus glutenfrei, alle \\nSaucen sind hausgemacht und glutenfrei. Auf der Karte sind die glutenfreien \\nGerichte gekennzeichnet. Glutenfreies Brot ist immer vorhanden.\\n4533 Restaurant zur Post Baselstrasse 23\\n4533 Riedholzwww.restaurantzurpost.ch 032 622 27 10\\ninfo@restaurantzurpost.chGlutenfreies Brot ist immer vorrätig. Glutenfreie Gerichte sind auf der \\nSpeisekarte nicht gekennzeichnet, können aber mit dem Service besprochen \\nwerden.\\xa0\\n4622 Spaghetti-Restaurant Ciao (Mövenpick \\nHotel Egerkingen)Höhenstrasse 12\\n4622 Egerkingenwww.moevenpick-hotels.com 062 389 19 19\\nhotel.egerkingen@\\nmoevenpick.comWir führen glutenfreie Spaghetti und eine grosse Auswahl an glutenfreien \\nGerichten auf unserer Sommer-Tapas-Karte und der Mövenpick Speisekarte. \\nGerne erstellen wir auch individuelle glutenfreie Menüs für Ihre \\nVeranstaltung und Feierlichkeit.\\n4310 Café Bistro Tournesol Geissgasse 11\\n4310 Rheinfelden- 061 302 38 28 Die Galette, eine bretonische Spezialität, wird traditionell aus \\nBuchweizenmehl hergestellt. Das Café Bistro Tournesol bietet 12 \\nGalettegerichte mit verschiedenen Füllungen an. Jeden Montag gibt es eine \\nSpezial-Galette als Tagesteller, dazu gehört ein Salat und Dessert. Bitte \\ninformieren Sie uns über Ihre Glutenunverträglichkeit, damit wir die \\nSalatsauce, das Brot und das Dessert anpassen können! Unsere süssen \\nCrêpes (üblicherweise aus Weizenmehl) können Sie auch glutenfrei aus \\nBuchweizenmehl bestellen. In der Herbst- und Winterzeit wärmt Sie unsere \\nglutenfreie hausgemachte Kürbissuppe.\\n4310 Feldschlösschen Restaurant Feldschlösschenstrasse 32\\n4310 Rheinfeldenwww.feldschloesschen-restaurant.ch 061 833 99 99\\ninfo@feldschloesschen-restaurant.chIn der regulären Speisekarte sind stets mehrere glutenfreie Gerichte \\nenthalten. Dabei erstreckt sich die Auswahl von den Vorspeisen über die \\nHauptgänge bis hin zum Dessert. Darüber hinaus ist unser Servicepersonal \\nsowie die Küchenbrigade offen für spezielle Wünsche und Anregungen \\nunserer Gäste, welche wir gerne im Rahmen unserer Möglichkeiten \\nberücksichtigen und umsetzen.\\xa0\\n5000 Telepizza Aarau Laurenzenvorstadt 135\\n5000 Aarauwww.telepizza.ch Zentrale 0844 33 33 33\\nTel. direkt: 062 789 77 77Wir bieten glutenfreie Pizzen in unseren verschiedenen Filialen an z.B. Pizza \\nMargherita, Salami und Hawai. Dazu reichen wir Ihnen gerne ein glutenfreies \\nBier. Bei den Desserts haben Sie eine Auswahl aus einzelverpackten \\nProdukten. \\n5400 Telepizza Baden Mellingerstrasse 52\\n5400 Badenwww.telepizza.ch Zentrale 0844 33 33 33\\nTel. direkt:  056 210 44 44Wir bieten glutenfreie Pizzen in unseren verschiedenen Filialen an z.B. Pizza \\nMargherita, Salami und Hawai. Dazu reichen wir Ihnen gerne ein glutenfreies \\nBier. Bei den Desserts haben Sie eine Auswahl aus einzelverpackten \\nProdukten. \\n5452 Restaurant Frohsinn Hanny \\nund Bruno Hafner GmbHDorfstrasse 16\\n5452 Oberrohrdorfwww.frohsinn-oberrohrdorf.ch 056 496 11 57\\ninfo@frohsinn-oberrohrdorf.chEngagierte Frischküche. Alle Menüs der Karte können glutenfrei abgewandelt \\nwerden, z.B. Fischknusperli oder Cordon Bleu. Glutenfreie Apéro Cracker und \\nTeigwaren werden geführt.\\n5610 Integra Stiftung für Behinderte im Freiamt\\nRestaurant Hans und HeidiAllmendstrasse 4\\n5610 Wohlenwww.integrafreiamt.ch 056 619 52 12 Hans und Heidi ist ein Speiserestaurant, das Menschen mit einer \\nBeeinträchtigung ausbildet und beschäftig.\\nWir setzen auf regionale und saisonale Produkte, kochen frisch und können \\nWünsche nach gluten- oder laktosefreiem Essen flexibel umsetzen. Wir \\nbieten glutenfreies Brot sowie Teigwaren an. \\nDas Wohl unserer Gäste liegt uns sehr am Herzen. Wir ermöglichen den \\nGästen eine abwechslungsreiche Mahlzeit trotz den Einschränkungen. \\nMenschen mit speziellen Essenswünschen sollen sich bei uns willkommen \\nund gut aufgehoben fühlen, und auch auf nichts verzichten müssen. \\n5616 Seerose Resort & Spa Seerosenstrassse 1\\n5616 Meisterschwandenwww.seerose.ch 056 676 68 68\\nhotel@seerose.chUnsere saisonal wechselnde Speise- und Dessertkarte weist glutenfreie und \\nlaktosefreie Gerichte mit einer Kennzeichnung aus. Glutenfreies Brot ist \\nimmer vorhanden.\\n5708 Hotel Restaurant Schifflände \\n(Remimag AG)Seestrasse 30\\n5708 Birrwilwww.hotel-restaurant-schifflaende.ch 062 772 11 09\\nschifflaende@remimag.chEin modernes Restaurant, ein schickes kleines Hotel, beides einzigartig \\ngelegen direkt am Hallwilersee. Hier findet sich eine Wohlfühloase der \\nbesonderen Art. Auch die Küche zeigt sich von einer modernen Seite. \\nKreative Kompositionen mit einem mediterranen Touch stehen dabei im \\nMittelpunkt; vielfach mit Fischen aus den heimischen Gewässern. Das \\nSpeiseangebot umfasst mittags und abends während den Servicezeiten \\nimmer glutenfreie Produkte, unabhängig ob Suppe, Vorspeise oder \\nHauptgang. Die glutenfreie Pasta kann ganztags bestellt werden und ist über \\nden hauseigenen Mercato auch für daheim erhältlich. '"
      ]
     },
     "execution_count": 17,
     "metadata": {},
     "output_type": "execute_result"
    }
   ],
   "source": [
    "# Only print 3rd page of whole pdf to verify outcome\n",
    "gastro_pdf_to_text[3]"
   ]
  },
  {
   "cell_type": "code",
   "execution_count": null,
   "id": "a268846a",
   "metadata": {},
   "outputs": [],
   "source": []
  }
 ],
 "metadata": {
  "kernelspec": {
   "display_name": "Python 3 (ipykernel)",
   "language": "python",
   "name": "python3"
  },
  "language_info": {
   "codemirror_mode": {
    "name": "ipython",
    "version": 3
   },
   "file_extension": ".py",
   "mimetype": "text/x-python",
   "name": "python",
   "nbconvert_exporter": "python",
   "pygments_lexer": "ipython3",
   "version": "3.9.7"
  }
 },
 "nbformat": 4,
 "nbformat_minor": 5
}
